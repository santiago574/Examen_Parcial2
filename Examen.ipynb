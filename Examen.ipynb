{
  "nbformat": 4,
  "nbformat_minor": 0,
  "metadata": {
    "colab": {
      "name": "Examen.ipynb",
      "provenance": [],
      "collapsed_sections": [],
      "authorship_tag": "ABX9TyPeQVeeKhk12arH9JzKmM4a",
      "include_colab_link": true
    },
    "kernelspec": {
      "name": "python3",
      "display_name": "Python 3"
    },
    "language_info": {
      "name": "python"
    }
  },
  "cells": [
    {
      "cell_type": "markdown",
      "metadata": {
        "id": "view-in-github",
        "colab_type": "text"
      },
      "source": [
        "<a href=\"https://colab.research.google.com/github/santiago574/Examen_Parcial2/blob/main/Examen.ipynb\" target=\"_parent\"><img src=\"https://colab.research.google.com/assets/colab-badge.svg\" alt=\"Open In Colab\"/></a>"
      ]
    },
    {
      "cell_type": "markdown",
      "metadata": {
        "id": "zt1fQnFHATCK"
      },
      "source": [
        "# Examen Parcial 2"
      ]
    },
    {
      "cell_type": "code",
      "metadata": {
        "colab": {
          "base_uri": "https://localhost:8080/"
        },
        "id": "T84znGQcAG1j",
        "outputId": "75694028-5b9d-412c-c0e6-ef4a03473592"
      },
      "source": [
        "# primero importamos la libreria de pandas\n",
        "import pandas as pd\n",
        "# luego creamos nuestro dataframe con los datos requeridos\n",
        "dat = pd.DataFrame([['Juan',23,'M','Burgos',2,5],\n",
        "                    ['Marta',78,'F','Madrid',0,1], \n",
        "                    ['Pedro', 22, 'M', 'Toledo',0 ,0],\n",
        "                    ['Jorge', 19, 'M', 'Burgos', 3, 5],\n",
        "                    ['Blas',45,'M','Madrid',2,2],\n",
        "                    ['Lisa',33,'F','Toledo',1,2],\n",
        "                    ['Antonio',20,'M','Madrid',4,3]], \n",
        "                   columns= ['Nombre','Edad','Género','Provincia','Hijos','Mascotas'])\n",
        "# luego le quitamos (ocultamos) los indices para que se vea mas binito el dataframe \n",
        "blankIndex=[''] * len(dat)\n",
        "dat.index=blankIndex\n",
        "# y por ultimo mostramos la información que coniene el dataframe creado\n",
        "print(dat)"
      ],
      "execution_count": 15,
      "outputs": [
        {
          "output_type": "stream",
          "text": [
            "   Nombre  Edad Género Provincia  Hijos  Mascotas\n",
            "     Juan    23      M    Burgos      2         5\n",
            "    Marta    78      F    Madrid      0         1\n",
            "    Pedro    22      M    Toledo      0         0\n",
            "    Jorge    19      M    Burgos      3         5\n",
            "     Blas    45      M    Madrid      2         2\n",
            "     Lisa    33      F    Toledo      1         2\n",
            "  Antonio    20      M    Madrid      4         3\n"
          ],
          "name": "stdout"
        }
      ]
    },
    {
      "cell_type": "code",
      "metadata": {
        "colab": {
          "base_uri": "https://localhost:8080/"
        },
        "id": "saUHL6O9Gf3X",
        "outputId": "617f5886-47b1-4f3d-dfa9-bb677b382826"
      },
      "source": [
        "# una vez hecho nuestro dataframe mostramos la información basica del dataframe\n",
        "print(dat.info())"
      ],
      "execution_count": 16,
      "outputs": [
        {
          "output_type": "stream",
          "text": [
            "<class 'pandas.core.frame.DataFrame'>\n",
            "Index: 7 entries,  to \n",
            "Data columns (total 6 columns):\n",
            " #   Column     Non-Null Count  Dtype \n",
            "---  ------     --------------  ----- \n",
            " 0   Nombre     7 non-null      object\n",
            " 1   Edad       7 non-null      int64 \n",
            " 2   Género     7 non-null      object\n",
            " 3   Provincia  7 non-null      object\n",
            " 4   Hijos      7 non-null      int64 \n",
            " 5   Mascotas   7 non-null      int64 \n",
            "dtypes: int64(3), object(3)\n",
            "memory usage: 392.0+ bytes\n",
            "None\n"
          ],
          "name": "stdout"
        }
      ]
    },
    {
      "cell_type": "code",
      "metadata": {
        "colab": {
          "base_uri": "https://localhost:8080/"
        },
        "id": "6lbyWePmG3Si",
        "outputId": "9586b0ac-0394-45b4-a271-71e468277bcf"
      },
      "source": [
        "# luego mostramos las estadiscias de las colunas que contienen numeros\n",
        "print(dat.describe())"
      ],
      "execution_count": 17,
      "outputs": [
        {
          "output_type": "stream",
          "text": [
            "            Edad     Hijos  Mascotas\n",
            "count   7.000000  7.000000  7.000000\n",
            "mean   34.285714  1.714286  2.571429\n",
            "std    21.383126  1.496026  1.902379\n",
            "min    19.000000  0.000000  0.000000\n",
            "25%    21.000000  0.500000  1.500000\n",
            "50%    23.000000  2.000000  2.000000\n",
            "75%    39.000000  2.500000  4.000000\n",
            "max    78.000000  4.000000  5.000000\n"
          ],
          "name": "stdout"
        }
      ]
    },
    {
      "cell_type": "code",
      "metadata": {
        "colab": {
          "base_uri": "https://localhost:8080/"
        },
        "id": "FHSxDEtuHEaC",
        "outputId": "ad668a2c-e444-453b-d7ad-c19fe55ef819"
      },
      "source": [
        "# posteriomente mostramos el procentaje de hombres y mujeres por provincia\n",
        "print(dat.groupby('Provincia').Género.value_counts(normalize = True) * 100)"
      ],
      "execution_count": 18,
      "outputs": [
        {
          "output_type": "stream",
          "text": [
            "Provincia  Género\n",
            "Burgos     M         100.000000\n",
            "Madrid     M          66.666667\n",
            "           F          33.333333\n",
            "Toledo     F          50.000000\n",
            "           M          50.000000\n",
            "Name: Género, dtype: float64\n"
          ],
          "name": "stdout"
        }
      ]
    },
    {
      "cell_type": "code",
      "metadata": {
        "colab": {
          "base_uri": "https://localhost:8080/",
          "height": 279
        },
        "id": "zzWwa7UPHzER",
        "outputId": "cc71152b-f11b-470e-ccb4-08829643c3cf"
      },
      "source": [
        "# luego representamos con una gráfica el número de hijos que hay en madrid frente al número de mascotas y para ello improtamos la libreria matplotlib\n",
        "import matplotlib.pyplot as plt\n",
        "fig, ax = plt.subplots()\n",
        "# en esta linea de codigo especificamos los datos a utilizar en la gráfica \n",
        "dat[dat.Provincia == 'Madrid'].plot(kind = 'scatter', x = 'Hijos', y = 'Mascotas', ax = ax)\n",
        "plt.show()"
      ],
      "execution_count": 19,
      "outputs": [
        {
          "output_type": "display_data",
          "data": {
            "image/png": "[encoded data removed]",
            "text/plain": [
              "<Figure size 432x288 with 1 Axes>"
            ]
          },
          "metadata": {
            "tags": [],
            "needs_background": "light"
          }
        }
      ]
    },
    {
      "cell_type": "code",
      "metadata": {
        "colab": {
          "base_uri": "https://localhost:8080/",
          "height": 320
        },
        "id": "bi2F0Cb8ILfp",
        "outputId": "9fd4c236-cb37-4b78-f6c3-668f8b17eb3c"
      },
      "source": [
        "# luego con una gráfica diferente mostramos la distribución de frecuencias por provincia\n",
        "\n",
        "fig, ax = plt.subplots()\n",
        "# en esta linea de codigo agrupamos y contamos el número de elementos por provincia \n",
        "dat.groupby('Provincia').size().plot(kind = 'bar')\n",
        "# esta linea de codigo sirve para ponerle un titulo a la grafica\n",
        "plt.title('Distribución de frecuencias por provincia')\n",
        "plt.show()"
      ],
      "execution_count": 20,
      "outputs": [
        {
          "output_type": "display_data",
          "data": {
            "image/png": "[encoded data removed]",
            "text/plain": [
              "<Figure size 432x288 with 1 Axes>"
            ]
          },
          "metadata": {
            "tags": [],
            "needs_background": "light"
          }
        }
      ]
    }
  ]
}